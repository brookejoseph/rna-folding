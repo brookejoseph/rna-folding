{
 "cells": [
  {
   "cell_type": "code",
   "execution_count": 2,
   "metadata": {},
   "outputs": [],
   "source": [
    "import pandas as pd\n",
    "# Load the CSV file\n",
    "train_labels = pd.read_csv(\"/Users/brookejoseph/downloads/kaggle/train_labels.csv\")\n",
    "train_sequences = pd.read_csv(\n",
    "    \"/Users/brookejoseph/downloads/kaggle/train_sequences.csv\"\n",
    ")"
   ]
  },
  {
   "cell_type": "code",
   "execution_count": 3,
   "metadata": {},
   "outputs": [
    {
     "name": "stdout",
     "output_type": "stream",
     "text": [
      "         ID resname  resid     x_1        y_1     z_1\n",
      "0  1SCL_A_1       G      1  13.760 -25.974001   0.102\n",
      "1  1SCL_A_2       G      2   9.310 -29.638000   2.669\n",
      "2  1SCL_A_3       G      3   5.529 -27.813000   5.878\n",
      "3  1SCL_A_4       U      4   2.678 -24.900999   9.793\n",
      "4  1SCL_A_5       G      5   1.827 -20.136000  11.793\n"
     ]
    }
   ],
   "source": [
    "print(train_labels.head())"
   ]
  },
  {
   "cell_type": "code",
   "execution_count": 4,
   "metadata": {},
   "outputs": [
    {
     "name": "stdout",
     "output_type": "stream",
     "text": [
      "  target_id                            sequence temporal_cutoff  \\\n",
      "0    1SCL_A       GGGUGCUCAGUACGAGAGGAACCGCACCC      1995-01-26   \n",
      "1    1RNK_A  GGCGCAGUGGGCUAGCGCCACUCAAAAGGCCCAU      1995-02-27   \n",
      "2    1RHT_A            GGGACUGACGAUCACGCAGUCUAU      1995-06-03   \n",
      "3    1HLX_A                GGGAUAACUUCGGUUGUCCC      1995-09-15   \n",
      "4    1HMH_E  GGCGACCCUGAUGAGGCCGAAAGGCCGAAACCGU      1995-12-07   \n",
      "\n",
      "                                         description  \\\n",
      "0               THE SARCIN-RICIN LOOP, A MODULAR RNA   \n",
      "1  THE STRUCTURE OF AN RNA PSEUDOKNOT THAT CAUSES...   \n",
      "2  24-MER RNA HAIRPIN COAT PROTEIN BINDING SITE F...   \n",
      "3  P1 HELIX NUCLEIC ACIDS (DNA/RNA) RIBONUCLEIC ACID   \n",
      "4  THREE-DIMENSIONAL STRUCTURE OF A HAMMERHEAD RI...   \n",
      "\n",
      "                                       all_sequences  \n",
      "0  >1SCL_1|Chain A|RNA SARCIN-RICIN LOOP|Rattus n...  \n",
      "1  >1RNK_1|Chain A|RNA PSEUDOKNOT|null\\nGGCGCAGUG...  \n",
      "2  >1RHT_1|Chain A|RNA (5'-R(P*GP*GP*GP*AP*CP*UP*...  \n",
      "3  >1HLX_1|Chain A|RNA (5'-R(*GP*GP*GP*AP*UP*AP*A...  \n",
      "4  >1HMH_1|Chains A, C, E|HAMMERHEAD RIBOZYME-RNA...  \n"
     ]
    }
   ],
   "source": [
    "print(train_sequences.head())"
   ]
  },
  {
   "cell_type": "code",
   "execution_count": 11,
   "metadata": {},
   "outputs": [
    {
     "name": "stdout",
     "output_type": "stream",
     "text": [
      "  target_id                            sequence\n",
      "0    1SCL_A       GGGUGCUCAGUACGAGAGGAACCGCACCC\n",
      "1    1RNK_A  GGCGCAGUGGGCUAGCGCCACUCAAAAGGCCCAU\n",
      "2    1RHT_A            GGGACUGACGAUCACGCAGUCUAU\n",
      "3    1HLX_A                GGGAUAACUUCGGUUGUCCC\n",
      "4    1HMH_E  GGCGACCCUGAUGAGGCCGAAAGGCCGAAACCGU\n"
     ]
    }
   ],
   "source": [
    "train_sequences2 = train_sequences.drop(\n",
    "    columns=[\"description\", \"temporal_cutoff\", \"all_sequences\"]\n",
    ")\n",
    "print(train_sequences2.head())"
   ]
  },
  {
   "cell_type": "code",
   "execution_count": 13,
   "metadata": {},
   "outputs": [
    {
     "name": "stdout",
     "output_type": "stream",
     "text": [
      "         ID resname  resid     x_1        y_1     z_1\n",
      "0  1SCL_A_1       G      1  13.760 -25.974001   0.102\n",
      "1  1SCL_A_2       G      2   9.310 -29.638000   2.669\n",
      "2  1SCL_A_3       G      3   5.529 -27.813000   5.878\n",
      "3  1SCL_A_4       U      4   2.678 -24.900999   9.793\n",
      "4  1SCL_A_5       G      5   1.827 -20.136000  11.793\n"
     ]
    }
   ],
   "source": [
    "print(train_labels.head())"
   ]
  },
  {
   "cell_type": "code",
   "execution_count": null,
   "metadata": {},
   "outputs": [],
   "source": []
  }
 ],
 "metadata": {
  "kernelspec": {
   "display_name": "kaggle",
   "language": "python",
   "name": "python3"
  },
  "language_info": {
   "codemirror_mode": {
    "name": "ipython",
    "version": 3
   },
   "file_extension": ".py",
   "mimetype": "text/x-python",
   "name": "python",
   "nbconvert_exporter": "python",
   "pygments_lexer": "ipython3",
   "version": "3.11.7"
  }
 },
 "nbformat": 4,
 "nbformat_minor": 2
}
